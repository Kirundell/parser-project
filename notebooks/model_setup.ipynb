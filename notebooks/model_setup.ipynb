{
 "cells": [
  {
   "cell_type": "markdown",
   "id": "c122446d",
   "metadata": {},
   "source": [
    "# Работа с полученными данными и обучение модели классификации"
   ]
  },
  {
   "cell_type": "markdown",
   "id": "48cdaf6c-2c8b-4e5e-9eef-33e51583fee1",
   "metadata": {},
   "source": [
    "## 1. Визуализация и анализ данных"
   ]
  },
  {
   "cell_type": "markdown",
   "id": "59c44901",
   "metadata": {},
   "source": [
    "Важно: данный датасет уже был предварительно проанализирован и обработан на предыдущем шаге, поэтому в этом ноутбуке мало времени подготовке данных.</br> \n",
    "</br>\n",
    "Немного информации про датасет.</br>\n",
    "Датасет содержит данные о грузоперевозках, выгруженных с сайта ati.su. Необходимо почистить данные от лишней информации и позже обучить модель, которая будет классифицировать данные по нужным категориям.</br>\n",
    "Колонки датасета содержат следующую информацию:</br>\n",
    "• Transport - вид транспорта, необходимый для погрузки</br>\n",
    "• Link - ссылка на перевозку</br>\n",
    "• number_of_cargo - информация о номере груза в системе АТИ</br>\n",
    "• distance_km - расстояние между точками погрузки и выгрузки</br>\n",
    "• nds - стоимость перевозки с НДС</br>\n",
    "• request_price - информация о том, является ли доступной информация о стоимости перевозки</br>\n",
    "• start_city - точка погрузки</br>\n",
    "• end_city - точка выгрузки</br>\n",
    "• start_date - дата погрузки</br>\n",
    "• new_info - контакты с заказчиком и номер телефона</br>\n",
    "• cargo - сам груз и его габариты</br>\n",
    "• benifit - целевая переменная, которая разделяет перевозки на 3 категории</br>\n",
    "</br>\n",
    "Обозначения меток категорий:</br>\n",
    "0 - информация о цене недоступна, оценка невозможно</br>\n",
    "1 - стоимость перевозки слишком низкая</br>\n",
    "2 - стоимость перевозки подходит под наши параметры поиска"
   ]
  },
  {
   "cell_type": "code",
   "execution_count": 4,
   "id": "ec1a5dab",
   "metadata": {},
   "outputs": [],
   "source": [
    "import numpy as np\n",
    "import pandas as pd\n",
    "import re\n",
    "import seaborn as sns\n",
    "import matplotlib.pyplot as plt\n",
    "from sklearn.model_selection import train_test_split\n",
    "from sklearn.preprocessing import OneHotEncoder\n",
    "from sklearn.linear_model import LogisticRegression\n",
    "from sklearn.ensemble import RandomForestClassifier\n",
    "from sklearn.metrics import accuracy_score, precision_score, recall_score, f1_score\n",
    "from sklearn.metrics import confusion_matrix, classification_report\n",
    "from catboost import CatBoostClassifier\n",
    "import joblib"
   ]
  },
  {
   "cell_type": "code",
   "execution_count": 5,
   "id": "58eda12f",
   "metadata": {},
   "outputs": [
    {
     "data": {
      "text/html": [
       "<div>\n",
       "<style scoped>\n",
       "    .dataframe tbody tr th:only-of-type {\n",
       "        vertical-align: middle;\n",
       "    }\n",
       "\n",
       "    .dataframe tbody tr th {\n",
       "        vertical-align: top;\n",
       "    }\n",
       "\n",
       "    .dataframe thead th {\n",
       "        text-align: right;\n",
       "    }\n",
       "</style>\n",
       "<table border=\"1\" class=\"dataframe\">\n",
       "  <thead>\n",
       "    <tr style=\"text-align: right;\">\n",
       "      <th></th>\n",
       "      <th>Transport</th>\n",
       "      <th>Link</th>\n",
       "      <th>number_of_cargo</th>\n",
       "      <th>distance_km</th>\n",
       "      <th>nds</th>\n",
       "      <th>request_price</th>\n",
       "      <th>start_city</th>\n",
       "      <th>end_city</th>\n",
       "      <th>start_date</th>\n",
       "      <th>new_info</th>\n",
       "      <th>cargo</th>\n",
       "      <th>benifit</th>\n",
       "    </tr>\n",
       "  </thead>\n",
       "  <tbody>\n",
       "    <tr>\n",
       "      <th>0</th>\n",
       "      <td>тент. изотермтентованный изотермическийзагр/вы...</td>\n",
       "      <td>https://loads.ati.su/loadinfo/2797902d-74eb-44...</td>\n",
       "      <td>#QMH227265</td>\n",
       "      <td>821</td>\n",
       "      <td>90000</td>\n",
       "      <td>0.0</td>\n",
       "      <td>Новосибирск</td>\n",
       "      <td>Красноярск</td>\n",
       "      <td>готов 5 апр.</td>\n",
       "      <td>(['ТК БЕЛУН, ООО'], ['+7(383)2768562', '+7(913...</td>\n",
       "      <td>['20 / 90', 'ТНП']</td>\n",
       "      <td>1</td>\n",
       "    </tr>\n",
       "    <tr>\n",
       "      <th>1</th>\n",
       "      <td>закр.+терм.все закр.+изотермзагр/выгр:задн.зад...</td>\n",
       "      <td>https://loads.ati.su/loadinfo/6bfd35cc-43e6-4c...</td>\n",
       "      <td>#BOK119951</td>\n",
       "      <td>821</td>\n",
       "      <td>80000</td>\n",
       "      <td>0.0</td>\n",
       "      <td>Новосибирск</td>\n",
       "      <td>Красноярск</td>\n",
       "      <td>готов 29 мар.</td>\n",
       "      <td>(['ТРАНС-МИССИЯ, ООО'], ['+7992340-16-67'])</td>\n",
       "      <td>['15 / 82', 'ТНП']</td>\n",
       "      <td>1</td>\n",
       "    </tr>\n",
       "    <tr>\n",
       "      <th>2</th>\n",
       "      <td>тент.тентованныйзагр/выгр:верх. 2-бокверхняя, ...</td>\n",
       "      <td>https://loads.ati.su/loadinfo/d6e50b3f-e3ef-44...</td>\n",
       "      <td>#ZFG6868</td>\n",
       "      <td>821</td>\n",
       "      <td>85000</td>\n",
       "      <td>0.0</td>\n",
       "      <td>Новосибирск</td>\n",
       "      <td>Красноярск</td>\n",
       "      <td>готов 26-27 мар.</td>\n",
       "      <td>([], [])</td>\n",
       "      <td>['10 / 82', 'ТНПДxШ,м:13,6x2,48']</td>\n",
       "      <td>1</td>\n",
       "    </tr>\n",
       "  </tbody>\n",
       "</table>\n",
       "</div>"
      ],
      "text/plain": [
       "                                           Transport  \\\n",
       "0  тент. изотермтентованный изотермическийзагр/вы...   \n",
       "1  закр.+терм.все закр.+изотермзагр/выгр:задн.зад...   \n",
       "2  тент.тентованныйзагр/выгр:верх. 2-бокверхняя, ...   \n",
       "\n",
       "                                                Link number_of_cargo  \\\n",
       "0  https://loads.ati.su/loadinfo/2797902d-74eb-44...      #QMH227265   \n",
       "1  https://loads.ati.su/loadinfo/6bfd35cc-43e6-4c...      #BOK119951   \n",
       "2  https://loads.ati.su/loadinfo/d6e50b3f-e3ef-44...        #ZFG6868   \n",
       "\n",
       "   distance_km    nds  request_price   start_city    end_city  \\\n",
       "0          821  90000            0.0  Новосибирск  Красноярск   \n",
       "1          821  80000            0.0  Новосибирск  Красноярск   \n",
       "2          821  85000            0.0  Новосибирск  Красноярск   \n",
       "\n",
       "         start_date                                           new_info  \\\n",
       "0      готов 5 апр.  (['ТК БЕЛУН, ООО'], ['+7(383)2768562', '+7(913...   \n",
       "1     готов 29 мар.        (['ТРАНС-МИССИЯ, ООО'], ['+7992340-16-67'])   \n",
       "2  готов 26-27 мар.                                           ([], [])   \n",
       "\n",
       "                               cargo  benifit  \n",
       "0                 ['20 / 90', 'ТНП']        1  \n",
       "1                 ['15 / 82', 'ТНП']        1  \n",
       "2  ['10 / 82', 'ТНПДxШ,м:13,6x2,48']        1  "
      ]
     },
     "execution_count": 5,
     "metadata": {},
     "output_type": "execute_result"
    }
   ],
   "source": [
    "df = pd.read_csv('full_test_data.csv')\n",
    "df.head(3)"
   ]
  },
  {
   "cell_type": "code",
   "execution_count": 6,
   "id": "373c82b3",
   "metadata": {},
   "outputs": [
    {
     "name": "stdout",
     "output_type": "stream",
     "text": [
      "<class 'pandas.core.frame.DataFrame'>\n",
      "RangeIndex: 1660 entries, 0 to 1659\n",
      "Data columns (total 12 columns):\n",
      " #   Column           Non-Null Count  Dtype  \n",
      "---  ------           --------------  -----  \n",
      " 0   Transport        1660 non-null   object \n",
      " 1   Link             1660 non-null   object \n",
      " 2   number_of_cargo  1660 non-null   object \n",
      " 3   distance_km      1660 non-null   int64  \n",
      " 4   nds              1660 non-null   int64  \n",
      " 5   request_price    1660 non-null   float64\n",
      " 6   start_city       1660 non-null   object \n",
      " 7   end_city         1660 non-null   object \n",
      " 8   start_date       1569 non-null   object \n",
      " 9   new_info         1660 non-null   object \n",
      " 10  cargo            1660 non-null   object \n",
      " 11  benifit          1660 non-null   int64  \n",
      "dtypes: float64(1), int64(3), object(8)\n",
      "memory usage: 155.8+ KB\n"
     ]
    }
   ],
   "source": [
    "df.info()"
   ]
  },
  {
   "cell_type": "markdown",
   "id": "40da57ad-a2ce-4b20-b55b-221e313c8615",
   "metadata": {},
   "source": [
    "#### Посмотрим на график распределения классов"
   ]
  },
  {
   "cell_type": "code",
   "execution_count": 8,
   "id": "d5642728",
   "metadata": {},
   "outputs": [
    {
     "data": {
      "image/png": "[encoded data removed]",
      "text/plain": [
       "<Figure size 600x400 with 1 Axes>"
      ]
     },
     "metadata": {},
     "output_type": "display_data"
    }
   ],
   "source": [
    "plt.figure(figsize=(6,4))\n",
    "sns.countplot(x='benifit', data=df)\n",
    "plt.xlabel('Категория')\n",
    "plt.ylabel('Количество')\n",
    "plt.title('Распределение данных в столбце benifit')\n",
    "plt.show()"
   ]
  },
  {
   "cell_type": "markdown",
   "id": "07833f46-da07-469a-ba19-629e2b43370f",
   "metadata": {},
   "source": [
    "#### Посмотрим на график распределения стоимости перевозок"
   ]
  },
  {
   "cell_type": "code",
   "execution_count": 11,
   "id": "8b2f2e39",
   "metadata": {},
   "outputs": [
    {
     "data": {
      "text/plain": [
       "<Axes: xlabel='nds', ylabel='Count'>"
      ]
     },
     "execution_count": 11,
     "metadata": {},
     "output_type": "execute_result"
    },
    {
     "data": {
      "image/png": "[encoded data removed]",
      "text/plain": [
       "<Figure size 640x480 with 1 Axes>"
      ]
     },
     "metadata": {},
     "output_type": "display_data"
    }
   ],
   "source": [
    "sns.histplot(data=df, x='nds', kde=True, bins=10)"
   ]
  },
  {
   "cell_type": "markdown",
   "id": "134e6b87-f2be-4e94-82c4-14725437de6f",
   "metadata": {},
   "source": [
    "#### Посмотрим на график распределения расстояний перевозок"
   ]
  },
  {
   "cell_type": "code",
   "execution_count": 16,
   "id": "6d37f7de",
   "metadata": {},
   "outputs": [
    {
     "data": {
      "text/plain": [
       "<Axes: xlabel='distance_km', ylabel='Count'>"
      ]
     },
     "execution_count": 16,
     "metadata": {},
     "output_type": "execute_result"
    },
    {
     "data": {
      "image/png": "[encoded data removed]",
      "text/plain": [
       "<Figure size 640x480 with 1 Axes>"
      ]
     },
     "metadata": {},
     "output_type": "display_data"
    }
   ],
   "source": [
    "sns.histplot(data=df, x='distance_km', kde=True, bins=10)"
   ]
  },
  {
   "cell_type": "markdown",
   "id": "2c57e878-09c9-49e7-8d79-b2a1b0051d8f",
   "metadata": {},
   "source": [
    "#### Проверим уникальность элементов"
   ]
  },
  {
   "cell_type": "code",
   "execution_count": 20,
   "id": "54d9ee72-fccf-465c-b3ce-8336664ccb4b",
   "metadata": {},
   "outputs": [
    {
     "data": {
      "text/plain": [
       "number_of_cargo\n",
       "#ZEY36436      2\n",
       "#VEB16382      2\n",
       "#KRU115168     2\n",
       "#QIP274077     2\n",
       "#LUH3290942    2\n",
       "              ..\n",
       "#KKC16548      1\n",
       "#ZKD55675      1\n",
       "#SJK1362       1\n",
       "#TMU44041      1\n",
       "#VVM201055     1\n",
       "Name: count, Length: 1539, dtype: int64"
      ]
     },
     "execution_count": 20,
     "metadata": {},
     "output_type": "execute_result"
    }
   ],
   "source": [
    "df['number_of_cargo'].value_counts()"
   ]
  },
  {
   "cell_type": "markdown",
   "id": "107e5517-c339-4801-8fb3-63b32b7aa812",
   "metadata": {},
   "source": [
    "#### Удалим повторяющиеся грузы и обновим индексацию"
   ]
  },
  {
   "cell_type": "code",
   "execution_count": 23,
   "id": "e72158db-f0b3-4c5d-ba28-a00ced884b57",
   "metadata": {},
   "outputs": [
    {
     "data": {
      "text/plain": [
       "(1539, 12)"
      ]
     },
     "execution_count": 23,
     "metadata": {},
     "output_type": "execute_result"
    }
   ],
   "source": [
    "df = df.drop_duplicates(subset='number_of_cargo', ignore_index=True)\n",
    "df.shape"
   ]
  },
  {
   "cell_type": "markdown",
   "id": "265f5655-5a06-45d0-a26f-341294624797",
   "metadata": {},
   "source": [
    "#### Исследуем на пропуски"
   ]
  },
  {
   "cell_type": "code",
   "execution_count": 26,
   "id": "370f0e8b-b68d-441e-b15c-8505c0b77188",
   "metadata": {
    "scrolled": true
   },
   "outputs": [
    {
     "data": {
      "text/plain": [
       "start_date         79\n",
       "Transport           0\n",
       "Link                0\n",
       "number_of_cargo     0\n",
       "distance_km         0\n",
       "nds                 0\n",
       "request_price       0\n",
       "start_city          0\n",
       "end_city            0\n",
       "new_info            0\n",
       "cargo               0\n",
       "benifit             0\n",
       "dtype: int64"
      ]
     },
     "execution_count": 26,
     "metadata": {},
     "output_type": "execute_result"
    }
   ],
   "source": [
    "df.isnull().sum().sort_values(ascending=False)"
   ]
  },
  {
   "cell_type": "markdown",
   "id": "908f1f8f-80d1-4deb-84ba-f87242306ec9",
   "metadata": {},
   "source": [
    "#### Посмотрим на моду для каждого столбца"
   ]
  },
  {
   "cell_type": "code",
   "execution_count": 29,
   "id": "3f176e7a-cc95-46ec-b9f6-a06f89bc97c0",
   "metadata": {},
   "outputs": [
    {
     "data": {
      "text/plain": [
       "Transport          закр.+терм.все закр.+изотермзагр/выгр:задн.зад...\n",
       "Link               https://loads.ati.su/loadinfo/e0512a46-621c-4c...\n",
       "number_of_cargo                                             #ABF2901\n",
       "distance_km                                                    821.0\n",
       "nds                                                              0.0\n",
       "request_price                                                    0.0\n",
       "start_city                                               Новосибирск\n",
       "end_city                                                  Красноярск\n",
       "start_date                                             готов 19 апр.\n",
       "new_info                                                    ([], [])\n",
       "cargo                              ['Информация о грузе не найдена']\n",
       "benifit                                                          1.0\n",
       "Name: 0, dtype: object"
      ]
     },
     "execution_count": 29,
     "metadata": {},
     "output_type": "execute_result"
    }
   ],
   "source": [
    "modes = df.mode().iloc[0]\n",
    "modes"
   ]
  },
  {
   "cell_type": "code",
   "execution_count": 31,
   "id": "4babebb0-40d6-42c9-8956-eca5e7a35fd7",
   "metadata": {},
   "outputs": [
    {
     "data": {
      "text/plain": [
       "number_of_cargo\n",
       "#QMH227265     1\n",
       "#IMD9242       1\n",
       "#KTF35567      1\n",
       "#YIE211732     1\n",
       "#VVM192171     1\n",
       "              ..\n",
       "#IAU36536      1\n",
       "#QYP1450882    1\n",
       "#JHX490037     1\n",
       "#JEL158900     1\n",
       "#VVM201055     1\n",
       "Name: count, Length: 1539, dtype: int64"
      ]
     },
     "execution_count": 31,
     "metadata": {},
     "output_type": "execute_result"
    }
   ],
   "source": [
    "df['number_of_cargo'].value_counts(dropna=False)"
   ]
  },
  {
   "cell_type": "code",
   "execution_count": 33,
   "id": "f26ccd8b-ea4b-4adb-87b1-8d663c5654eb",
   "metadata": {},
   "outputs": [
    {
     "data": {
      "text/html": [
       "<div>\n",
       "<style scoped>\n",
       "    .dataframe tbody tr th:only-of-type {\n",
       "        vertical-align: middle;\n",
       "    }\n",
       "\n",
       "    .dataframe tbody tr th {\n",
       "        vertical-align: top;\n",
       "    }\n",
       "\n",
       "    .dataframe thead th {\n",
       "        text-align: right;\n",
       "    }\n",
       "</style>\n",
       "<table border=\"1\" class=\"dataframe\">\n",
       "  <thead>\n",
       "    <tr style=\"text-align: right;\">\n",
       "      <th></th>\n",
       "      <th>Transport</th>\n",
       "      <th>Link</th>\n",
       "      <th>number_of_cargo</th>\n",
       "      <th>distance_km</th>\n",
       "      <th>nds</th>\n",
       "      <th>request_price</th>\n",
       "      <th>start_city</th>\n",
       "      <th>end_city</th>\n",
       "      <th>start_date</th>\n",
       "      <th>new_info</th>\n",
       "      <th>cargo</th>\n",
       "      <th>benifit</th>\n",
       "    </tr>\n",
       "  </thead>\n",
       "  <tbody>\n",
       "    <tr>\n",
       "      <th>0</th>\n",
       "      <td>тент. изотермтентованный изотермическийзагр/вы...</td>\n",
       "      <td>https://loads.ati.su/loadinfo/2797902d-74eb-44...</td>\n",
       "      <td>#QMH227265</td>\n",
       "      <td>821</td>\n",
       "      <td>90000</td>\n",
       "      <td>0.0</td>\n",
       "      <td>Новосибирск</td>\n",
       "      <td>Красноярск</td>\n",
       "      <td>готов 5 апр.</td>\n",
       "      <td>(['ТК БЕЛУН, ООО'], ['+7(383)2768562', '+7(913...</td>\n",
       "      <td>['20 / 90', 'ТНП']</td>\n",
       "      <td>1</td>\n",
       "    </tr>\n",
       "    <tr>\n",
       "      <th>1</th>\n",
       "      <td>закр.+терм.все закр.+изотермзагр/выгр:задн.зад...</td>\n",
       "      <td>https://loads.ati.su/loadinfo/6bfd35cc-43e6-4c...</td>\n",
       "      <td>#BOK119951</td>\n",
       "      <td>821</td>\n",
       "      <td>80000</td>\n",
       "      <td>0.0</td>\n",
       "      <td>Новосибирск</td>\n",
       "      <td>Красноярск</td>\n",
       "      <td>готов 29 мар.</td>\n",
       "      <td>(['ТРАНС-МИССИЯ, ООО'], ['+7992340-16-67'])</td>\n",
       "      <td>['15 / 82', 'ТНП']</td>\n",
       "      <td>1</td>\n",
       "    </tr>\n",
       "    <tr>\n",
       "      <th>2</th>\n",
       "      <td>тент.тентованныйзагр/выгр:верх. 2-бокверхняя, ...</td>\n",
       "      <td>https://loads.ati.su/loadinfo/d6e50b3f-e3ef-44...</td>\n",
       "      <td>#ZFG6868</td>\n",
       "      <td>821</td>\n",
       "      <td>85000</td>\n",
       "      <td>0.0</td>\n",
       "      <td>Новосибирск</td>\n",
       "      <td>Красноярск</td>\n",
       "      <td>готов 26-27 мар.</td>\n",
       "      <td>([], [])</td>\n",
       "      <td>['10 / 82', 'ТНПДxШ,м:13,6x2,48']</td>\n",
       "      <td>1</td>\n",
       "    </tr>\n",
       "  </tbody>\n",
       "</table>\n",
       "</div>"
      ],
      "text/plain": [
       "                                           Transport  \\\n",
       "0  тент. изотермтентованный изотермическийзагр/вы...   \n",
       "1  закр.+терм.все закр.+изотермзагр/выгр:задн.зад...   \n",
       "2  тент.тентованныйзагр/выгр:верх. 2-бокверхняя, ...   \n",
       "\n",
       "                                                Link number_of_cargo  \\\n",
       "0  https://loads.ati.su/loadinfo/2797902d-74eb-44...      #QMH227265   \n",
       "1  https://loads.ati.su/loadinfo/6bfd35cc-43e6-4c...      #BOK119951   \n",
       "2  https://loads.ati.su/loadinfo/d6e50b3f-e3ef-44...        #ZFG6868   \n",
       "\n",
       "   distance_km    nds  request_price   start_city    end_city  \\\n",
       "0          821  90000            0.0  Новосибирск  Красноярск   \n",
       "1          821  80000            0.0  Новосибирск  Красноярск   \n",
       "2          821  85000            0.0  Новосибирск  Красноярск   \n",
       "\n",
       "         start_date                                           new_info  \\\n",
       "0      готов 5 апр.  (['ТК БЕЛУН, ООО'], ['+7(383)2768562', '+7(913...   \n",
       "1     готов 29 мар.        (['ТРАНС-МИССИЯ, ООО'], ['+7992340-16-67'])   \n",
       "2  готов 26-27 мар.                                           ([], [])   \n",
       "\n",
       "                               cargo  benifit  \n",
       "0                 ['20 / 90', 'ТНП']        1  \n",
       "1                 ['15 / 82', 'ТНП']        1  \n",
       "2  ['10 / 82', 'ТНПДxШ,м:13,6x2,48']        1  "
      ]
     },
     "execution_count": 33,
     "metadata": {},
     "output_type": "execute_result"
    }
   ],
   "source": [
    "df = df.drop_duplicates(subset='number_of_cargo', ignore_index=True)\n",
    "df.head(3)"
   ]
  },
  {
   "cell_type": "code",
   "execution_count": 35,
   "id": "e830f566-9904-4dce-b403-aa4626fc58b9",
   "metadata": {},
   "outputs": [
    {
     "data": {
      "text/plain": [
       "(1539, 12)"
      ]
     },
     "execution_count": 35,
     "metadata": {},
     "output_type": "execute_result"
    }
   ],
   "source": [
    "df.shape"
   ]
  },
  {
   "cell_type": "markdown",
   "id": "95f886f2-e342-46cf-bf10-59da8294dc7a",
   "metadata": {},
   "source": [
    "#### Основная задача - уловить зависимости, которые существуют между маршрутами и стоимостью перевозок. Среди имеющихся столбцов некоторые не содержат полезной для обучения модели информацию, поэтому удалим их:\n",
    "1. Link, number_of_cargo просто представляют из себя уникальные идентификаторы для грузов. Из них нельзя получить никакой полезной информации, так как они различны для всех элементов датасета.\n",
    "2. Transport содержит информацию только о том, какой тип кузова нужен для осуществления перевозки (предварительно в фильтрах сайта были выбраны только те автомобили, которые есть в автопарке транспортной компании, поэтому особого смысла в этом параметре нет).\n",
    "3. start_date - это просто дата погрузки. Парсер не собирает информацию о том, когда перевозка была выложена, поэтому уловить какие-то зависимости между ценой и срочностью не получится.  \n",
    "4. request_price коррелирует со столбцом nds, поэтому если его не удалить, то он приведет к переобучению.\n",
    "\n",
    "#### Также есть интересные параметры, которые можно будет распарсить для более детального изучения, но делать это хочется только если точность модели без них будет недостаточно высокой. (да и есть вопросы к качеству разметки, поэтому не факт, что удастся извлечь из них какую-то полезную информацию)\n",
    "1. new_info содержит информацию о заказчике и его контакты, поэтому можно предположить, что есть заказчики, которые стабильно выкладывают перевозки с хорошей ставкой (также наверняка могут быть заказчики, которые наоборот специально занижают стоимость перевозок).\n",
    "2. cargo - столбец с информацией о том, какой груз и в каком объеме необходимо перевезти. Этот столбец может содержать полезную информацию, так как может быть выгодно собирать маленькие перевозки в один большой сборный груз. Возможно также есть какая-то корреляция между стоимостью груза и стоимостью перевозки."
   ]
  },
  {
   "cell_type": "code",
   "execution_count": 38,
   "id": "44515da4-d2b0-4f87-bad4-8d91cfbd39f0",
   "metadata": {},
   "outputs": [
    {
     "data": {
      "text/html": [
       "<div>\n",
       "<style scoped>\n",
       "    .dataframe tbody tr th:only-of-type {\n",
       "        vertical-align: middle;\n",
       "    }\n",
       "\n",
       "    .dataframe tbody tr th {\n",
       "        vertical-align: top;\n",
       "    }\n",
       "\n",
       "    .dataframe thead th {\n",
       "        text-align: right;\n",
       "    }\n",
       "</style>\n",
       "<table border=\"1\" class=\"dataframe\">\n",
       "  <thead>\n",
       "    <tr style=\"text-align: right;\">\n",
       "      <th></th>\n",
       "      <th>distance_km</th>\n",
       "      <th>nds</th>\n",
       "      <th>start_city</th>\n",
       "      <th>end_city</th>\n",
       "      <th>benifit</th>\n",
       "    </tr>\n",
       "  </thead>\n",
       "  <tbody>\n",
       "    <tr>\n",
       "      <th>0</th>\n",
       "      <td>821</td>\n",
       "      <td>90000</td>\n",
       "      <td>Новосибирск</td>\n",
       "      <td>Красноярск</td>\n",
       "      <td>1</td>\n",
       "    </tr>\n",
       "    <tr>\n",
       "      <th>1</th>\n",
       "      <td>821</td>\n",
       "      <td>80000</td>\n",
       "      <td>Новосибирск</td>\n",
       "      <td>Красноярск</td>\n",
       "      <td>1</td>\n",
       "    </tr>\n",
       "    <tr>\n",
       "      <th>2</th>\n",
       "      <td>821</td>\n",
       "      <td>85000</td>\n",
       "      <td>Новосибирск</td>\n",
       "      <td>Красноярск</td>\n",
       "      <td>1</td>\n",
       "    </tr>\n",
       "  </tbody>\n",
       "</table>\n",
       "</div>"
      ],
      "text/plain": [
       "   distance_km    nds   start_city    end_city  benifit\n",
       "0          821  90000  Новосибирск  Красноярск        1\n",
       "1          821  80000  Новосибирск  Красноярск        1\n",
       "2          821  85000  Новосибирск  Красноярск        1"
      ]
     },
     "execution_count": 38,
     "metadata": {},
     "output_type": "execute_result"
    }
   ],
   "source": [
    "df = df.drop(['Link', 'number_of_cargo', 'new_info', 'Transport', 'start_date', 'request_price', 'cargo'], axis=1)\n",
    "df.head(3)"
   ]
  },
  {
   "cell_type": "markdown",
   "id": "81a74fef-ac8a-41fa-b138-6122fd3cf309",
   "metadata": {},
   "source": [
    "#### Проверим данные на наличие выбросов"
   ]
  },
  {
   "cell_type": "code",
   "execution_count": 41,
   "id": "6cae6c90-f169-43fd-985b-7380fb80bf4f",
   "metadata": {},
   "outputs": [
    {
     "name": "stdout",
     "output_type": "stream",
     "text": [
      "Минимальное расстояние между точками погрузки и выгрузки: 384 км.\n",
      "Среднее расстояние между точками погрузки и выгрузки: 795.74 км.\n",
      "Максимальное расстояние между точками погрузки и выгрузки: 3411 км.\n",
      "\n",
      "Минимальная стоимость перевозки: 1 руб.\n",
      "Минимальная стоимость перевозки: 3000 руб.\n",
      "Средняя стоимость перевозки: 74228.21 км.\n",
      "Максимальная стоимость перевозки: 199000 руб.\n"
     ]
    }
   ],
   "source": [
    "print(f\"Минимальное расстояние между точками погрузки и выгрузки: {df['distance_km'].min()} км.\")\n",
    "print(f\"Среднее расстояние между точками погрузки и выгрузки: {(df['distance_km'].mean()).round(2)} км.\")\n",
    "print(f\"Максимальное расстояние между точками погрузки и выгрузки: {df['distance_km'].max()} км.\\n\")\n",
    "\n",
    "print(f\"Минимальная стоимость перевозки: {df[df['nds'] > 0]['nds'].min()} руб.\")\n",
    "print(f\"Минимальная стоимость перевозки: {df[df['nds'] > 1]['nds'].min()} руб.\")\n",
    "print(f\"Средняя стоимость перевозки: {(df[df['nds'] > 0]['nds'].mean()).round(2)} км.\")\n",
    "print(f\"Максимальная стоимость перевозки: {df['nds'].max()} руб.\")"
   ]
  },
  {
   "cell_type": "markdown",
   "id": "53e45256-c502-47d0-b352-a2d36f3cbf1e",
   "metadata": {},
   "source": [
    "#### В наборе данных присутствуют перевозки с объявленной стоимостью в 1 рубль. Я считаю, что такие грузы либо являются ошибкой, либо попыткой заказчика найти наиболее выгодное предложение путём аукциона. В любом случае такие перевозки не очень информативны и могут путать модель, поэтому нужно их удалить."
   ]
  },
  {
   "cell_type": "code",
   "execution_count": 44,
   "id": "c38a42f9-442a-4767-b1c8-b2db968d035f",
   "metadata": {},
   "outputs": [
    {
     "data": {
      "text/html": [
       "<div>\n",
       "<style scoped>\n",
       "    .dataframe tbody tr th:only-of-type {\n",
       "        vertical-align: middle;\n",
       "    }\n",
       "\n",
       "    .dataframe tbody tr th {\n",
       "        vertical-align: top;\n",
       "    }\n",
       "\n",
       "    .dataframe thead th {\n",
       "        text-align: right;\n",
       "    }\n",
       "</style>\n",
       "<table border=\"1\" class=\"dataframe\">\n",
       "  <thead>\n",
       "    <tr style=\"text-align: right;\">\n",
       "      <th></th>\n",
       "      <th>distance_km</th>\n",
       "      <th>nds</th>\n",
       "      <th>start_city</th>\n",
       "      <th>end_city</th>\n",
       "      <th>benifit</th>\n",
       "    </tr>\n",
       "  </thead>\n",
       "  <tbody>\n",
       "    <tr>\n",
       "      <th>0</th>\n",
       "      <td>821</td>\n",
       "      <td>90000</td>\n",
       "      <td>Новосибирск</td>\n",
       "      <td>Красноярск</td>\n",
       "      <td>1</td>\n",
       "    </tr>\n",
       "    <tr>\n",
       "      <th>1</th>\n",
       "      <td>821</td>\n",
       "      <td>80000</td>\n",
       "      <td>Новосибирск</td>\n",
       "      <td>Красноярск</td>\n",
       "      <td>1</td>\n",
       "    </tr>\n",
       "    <tr>\n",
       "      <th>2</th>\n",
       "      <td>821</td>\n",
       "      <td>85000</td>\n",
       "      <td>Новосибирск</td>\n",
       "      <td>Красноярск</td>\n",
       "      <td>1</td>\n",
       "    </tr>\n",
       "  </tbody>\n",
       "</table>\n",
       "</div>"
      ],
      "text/plain": [
       "   distance_km    nds   start_city    end_city  benifit\n",
       "0          821  90000  Новосибирск  Красноярск        1\n",
       "1          821  80000  Новосибирск  Красноярск        1\n",
       "2          821  85000  Новосибирск  Красноярск        1"
      ]
     },
     "execution_count": 44,
     "metadata": {},
     "output_type": "execute_result"
    }
   ],
   "source": [
    "df = df[df['nds'] != 1]\n",
    "df.head(3)"
   ]
  },
  {
   "cell_type": "code",
   "execution_count": 46,
   "id": "a78795d7-ddd7-4430-b6ac-8acb51d23268",
   "metadata": {},
   "outputs": [
    {
     "data": {
      "text/plain": [
       "(1535, 5)"
      ]
     },
     "execution_count": 46,
     "metadata": {},
     "output_type": "execute_result"
    }
   ],
   "source": [
    "df.shape"
   ]
  },
  {
   "cell_type": "markdown",
   "id": "47827929-7898-4014-8f96-c679873272a3",
   "metadata": {},
   "source": [
    "## 2. Обучение моделей"
   ]
  },
  {
   "cell_type": "markdown",
   "id": "0e445bae-960d-417c-b7cb-cbe8f162c9aa",
   "metadata": {},
   "source": [
    "#### Отделим от данных целевую переменную"
   ]
  },
  {
   "cell_type": "code",
   "execution_count": 50,
   "id": "ddaa2ad2",
   "metadata": {},
   "outputs": [],
   "source": [
    "X = df.drop(['benifit'], axis=1)\n",
    "y = df['benifit']"
   ]
  },
  {
   "cell_type": "code",
   "execution_count": 52,
   "id": "ecb5a5bd",
   "metadata": {},
   "outputs": [
    {
     "data": {
      "text/html": [
       "<div>\n",
       "<style scoped>\n",
       "    .dataframe tbody tr th:only-of-type {\n",
       "        vertical-align: middle;\n",
       "    }\n",
       "\n",
       "    .dataframe tbody tr th {\n",
       "        vertical-align: top;\n",
       "    }\n",
       "\n",
       "    .dataframe thead th {\n",
       "        text-align: right;\n",
       "    }\n",
       "</style>\n",
       "<table border=\"1\" class=\"dataframe\">\n",
       "  <thead>\n",
       "    <tr style=\"text-align: right;\">\n",
       "      <th></th>\n",
       "      <th>distance_km</th>\n",
       "      <th>nds</th>\n",
       "      <th>start_city</th>\n",
       "      <th>end_city</th>\n",
       "    </tr>\n",
       "  </thead>\n",
       "  <tbody>\n",
       "    <tr>\n",
       "      <th>0</th>\n",
       "      <td>821</td>\n",
       "      <td>90000</td>\n",
       "      <td>Новосибирск</td>\n",
       "      <td>Красноярск</td>\n",
       "    </tr>\n",
       "    <tr>\n",
       "      <th>1</th>\n",
       "      <td>821</td>\n",
       "      <td>80000</td>\n",
       "      <td>Новосибирск</td>\n",
       "      <td>Красноярск</td>\n",
       "    </tr>\n",
       "    <tr>\n",
       "      <th>2</th>\n",
       "      <td>821</td>\n",
       "      <td>85000</td>\n",
       "      <td>Новосибирск</td>\n",
       "      <td>Красноярск</td>\n",
       "    </tr>\n",
       "  </tbody>\n",
       "</table>\n",
       "</div>"
      ],
      "text/plain": [
       "   distance_km    nds   start_city    end_city\n",
       "0          821  90000  Новосибирск  Красноярск\n",
       "1          821  80000  Новосибирск  Красноярск\n",
       "2          821  85000  Новосибирск  Красноярск"
      ]
     },
     "execution_count": 52,
     "metadata": {},
     "output_type": "execute_result"
    }
   ],
   "source": [
    "X.head(3)"
   ]
  },
  {
   "cell_type": "markdown",
   "id": "3346895b-429e-43c5-b3bc-c267a0627113",
   "metadata": {},
   "source": [
    "#### Переименуем столбцы с информацией о городах погрузки и выгрузки (это нужно из-за того, что в начале сбора данных парсер был немного другой, поэтому столбцы назывались по-другому)"
   ]
  },
  {
   "cell_type": "code",
   "execution_count": 55,
   "id": "f40efdeb-dc79-4256-83db-4ba3a31d48dd",
   "metadata": {},
   "outputs": [
    {
     "data": {
      "text/html": [
       "<div>\n",
       "<style scoped>\n",
       "    .dataframe tbody tr th:only-of-type {\n",
       "        vertical-align: middle;\n",
       "    }\n",
       "\n",
       "    .dataframe tbody tr th {\n",
       "        vertical-align: top;\n",
       "    }\n",
       "\n",
       "    .dataframe thead th {\n",
       "        text-align: right;\n",
       "    }\n",
       "</style>\n",
       "<table border=\"1\" class=\"dataframe\">\n",
       "  <thead>\n",
       "    <tr style=\"text-align: right;\">\n",
       "      <th></th>\n",
       "      <th>distance_km</th>\n",
       "      <th>nds</th>\n",
       "      <th>start</th>\n",
       "      <th>end</th>\n",
       "    </tr>\n",
       "  </thead>\n",
       "  <tbody>\n",
       "    <tr>\n",
       "      <th>0</th>\n",
       "      <td>821</td>\n",
       "      <td>90000</td>\n",
       "      <td>Новосибирск</td>\n",
       "      <td>Красноярск</td>\n",
       "    </tr>\n",
       "    <tr>\n",
       "      <th>1</th>\n",
       "      <td>821</td>\n",
       "      <td>80000</td>\n",
       "      <td>Новосибирск</td>\n",
       "      <td>Красноярск</td>\n",
       "    </tr>\n",
       "    <tr>\n",
       "      <th>2</th>\n",
       "      <td>821</td>\n",
       "      <td>85000</td>\n",
       "      <td>Новосибирск</td>\n",
       "      <td>Красноярск</td>\n",
       "    </tr>\n",
       "  </tbody>\n",
       "</table>\n",
       "</div>"
      ],
      "text/plain": [
       "   distance_km    nds        start         end\n",
       "0          821  90000  Новосибирск  Красноярск\n",
       "1          821  80000  Новосибирск  Красноярск\n",
       "2          821  85000  Новосибирск  Красноярск"
      ]
     },
     "execution_count": 55,
     "metadata": {},
     "output_type": "execute_result"
    }
   ],
   "source": [
    "X = X.rename(columns={'start_city': 'start', 'end_city': 'end'})\n",
    "X.head(3)"
   ]
  },
  {
   "cell_type": "code",
   "execution_count": 57,
   "id": "fc5eb10d",
   "metadata": {},
   "outputs": [
    {
     "data": {
      "text/plain": [
       "((1535, 4), (1535,))"
      ]
     },
     "execution_count": 57,
     "metadata": {},
     "output_type": "execute_result"
    }
   ],
   "source": [
    "X.shape, y.shape"
   ]
  },
  {
   "cell_type": "markdown",
   "id": "0db04c06-7477-4469-b8b3-11565e2b9f73",
   "metadata": {},
   "source": [
    "#### Закодируем города при помощи техники One-hot encoding"
   ]
  },
  {
   "cell_type": "code",
   "execution_count": 60,
   "id": "c075c821-692e-4fa5-91ff-f2068f02502d",
   "metadata": {},
   "outputs": [
    {
     "data": {
      "text/html": [
       "<div>\n",
       "<style scoped>\n",
       "    .dataframe tbody tr th:only-of-type {\n",
       "        vertical-align: middle;\n",
       "    }\n",
       "\n",
       "    .dataframe tbody tr th {\n",
       "        vertical-align: top;\n",
       "    }\n",
       "\n",
       "    .dataframe thead th {\n",
       "        text-align: right;\n",
       "    }\n",
       "</style>\n",
       "<table border=\"1\" class=\"dataframe\">\n",
       "  <thead>\n",
       "    <tr style=\"text-align: right;\">\n",
       "      <th></th>\n",
       "      <th>distance_km</th>\n",
       "      <th>nds</th>\n",
       "      <th>start_Абакан</th>\n",
       "      <th>start_Бердск</th>\n",
       "      <th>start_Верх-Тула</th>\n",
       "      <th>start_Красноярск</th>\n",
       "      <th>start_Красный Восток</th>\n",
       "      <th>start_Красный Яр</th>\n",
       "      <th>start_Криводановка</th>\n",
       "      <th>start_Мичуринск</th>\n",
       "      <th>...</th>\n",
       "      <th>end_Емельяново</th>\n",
       "      <th>end_Енисейск</th>\n",
       "      <th>end_Информация недоступна</th>\n",
       "      <th>end_Красноярск</th>\n",
       "      <th>end_Новосибирск</th>\n",
       "      <th>end_Пригорск</th>\n",
       "      <th>end_Солонцы</th>\n",
       "      <th>end_Сосновоборск</th>\n",
       "      <th>end_Черногорск</th>\n",
       "      <th>end_Шуваево</th>\n",
       "    </tr>\n",
       "  </thead>\n",
       "  <tbody>\n",
       "    <tr>\n",
       "      <th>0</th>\n",
       "      <td>821</td>\n",
       "      <td>90000</td>\n",
       "      <td>False</td>\n",
       "      <td>False</td>\n",
       "      <td>False</td>\n",
       "      <td>False</td>\n",
       "      <td>False</td>\n",
       "      <td>False</td>\n",
       "      <td>False</td>\n",
       "      <td>False</td>\n",
       "      <td>...</td>\n",
       "      <td>False</td>\n",
       "      <td>False</td>\n",
       "      <td>False</td>\n",
       "      <td>True</td>\n",
       "      <td>False</td>\n",
       "      <td>False</td>\n",
       "      <td>False</td>\n",
       "      <td>False</td>\n",
       "      <td>False</td>\n",
       "      <td>False</td>\n",
       "    </tr>\n",
       "    <tr>\n",
       "      <th>1</th>\n",
       "      <td>821</td>\n",
       "      <td>80000</td>\n",
       "      <td>False</td>\n",
       "      <td>False</td>\n",
       "      <td>False</td>\n",
       "      <td>False</td>\n",
       "      <td>False</td>\n",
       "      <td>False</td>\n",
       "      <td>False</td>\n",
       "      <td>False</td>\n",
       "      <td>...</td>\n",
       "      <td>False</td>\n",
       "      <td>False</td>\n",
       "      <td>False</td>\n",
       "      <td>True</td>\n",
       "      <td>False</td>\n",
       "      <td>False</td>\n",
       "      <td>False</td>\n",
       "      <td>False</td>\n",
       "      <td>False</td>\n",
       "      <td>False</td>\n",
       "    </tr>\n",
       "    <tr>\n",
       "      <th>2</th>\n",
       "      <td>821</td>\n",
       "      <td>85000</td>\n",
       "      <td>False</td>\n",
       "      <td>False</td>\n",
       "      <td>False</td>\n",
       "      <td>False</td>\n",
       "      <td>False</td>\n",
       "      <td>False</td>\n",
       "      <td>False</td>\n",
       "      <td>False</td>\n",
       "      <td>...</td>\n",
       "      <td>False</td>\n",
       "      <td>False</td>\n",
       "      <td>False</td>\n",
       "      <td>True</td>\n",
       "      <td>False</td>\n",
       "      <td>False</td>\n",
       "      <td>False</td>\n",
       "      <td>False</td>\n",
       "      <td>False</td>\n",
       "      <td>False</td>\n",
       "    </tr>\n",
       "  </tbody>\n",
       "</table>\n",
       "<p>3 rows × 43 columns</p>\n",
       "</div>"
      ],
      "text/plain": [
       "   distance_km    nds  start_Абакан  start_Бердск  start_Верх-Тула  \\\n",
       "0          821  90000         False         False            False   \n",
       "1          821  80000         False         False            False   \n",
       "2          821  85000         False         False            False   \n",
       "\n",
       "   start_Красноярск  start_Красный Восток  start_Красный Яр  \\\n",
       "0             False                 False             False   \n",
       "1             False                 False             False   \n",
       "2             False                 False             False   \n",
       "\n",
       "   start_Криводановка  start_Мичуринск  ...  end_Емельяново  end_Енисейск  \\\n",
       "0               False            False  ...           False         False   \n",
       "1               False            False  ...           False         False   \n",
       "2               False            False  ...           False         False   \n",
       "\n",
       "   end_Информация недоступна  end_Красноярск  end_Новосибирск  end_Пригорск  \\\n",
       "0                      False            True            False         False   \n",
       "1                      False            True            False         False   \n",
       "2                      False            True            False         False   \n",
       "\n",
       "   end_Солонцы  end_Сосновоборск  end_Черногорск  end_Шуваево  \n",
       "0        False             False           False        False  \n",
       "1        False             False           False        False  \n",
       "2        False             False           False        False  \n",
       "\n",
       "[3 rows x 43 columns]"
      ]
     },
     "execution_count": 60,
     "metadata": {},
     "output_type": "execute_result"
    }
   ],
   "source": [
    "X = pd.get_dummies(X, columns=['start', 'end'])\n",
    "X.head(3)"
   ]
  },
  {
   "cell_type": "markdown",
   "id": "f3653826-303f-44df-b323-de17962022f8",
   "metadata": {},
   "source": [
    "#### Разделим датасет на обучающую и тестовую выборки"
   ]
  },
  {
   "cell_type": "code",
   "execution_count": 63,
   "id": "aa737a41",
   "metadata": {},
   "outputs": [],
   "source": [
    "X_train, X_test, y_train, y_test = train_test_split(X, y, test_size=0.2, random_state = 22)"
   ]
  },
  {
   "cell_type": "code",
   "execution_count": null,
   "id": "7362ec99-3b93-495c-951b-a2f15846a83f",
   "metadata": {},
   "outputs": [],
   "source": []
  },
  {
   "cell_type": "markdown",
   "id": "9774297a-cdc7-4705-a28a-ffca03745f3f",
   "metadata": {},
   "source": [
    "### Логистическая регрессия"
   ]
  },
  {
   "cell_type": "code",
   "execution_count": 67,
   "id": "a960fbda",
   "metadata": {},
   "outputs": [],
   "source": [
    "log_reg = LogisticRegression(multi_class='multinomial', random_state=22, max_iter=1000)"
   ]
  },
  {
   "cell_type": "code",
   "execution_count": 69,
   "id": "74945c96",
   "metadata": {
    "scrolled": true
   },
   "outputs": [
    {
     "data": {
      "text/html": [
       "<style>#sk-container-id-1 {\n",
       "  /* Definition of color scheme common for light and dark mode */\n",
       "  --sklearn-color-text: black;\n",
       "  --sklearn-color-line: gray;\n",
       "  /* Definition of color scheme for unfitted estimators */\n",
       "  --sklearn-color-unfitted-level-0: #fff5e6;\n",
       "  --sklearn-color-unfitted-level-1: #f6e4d2;\n",
       "  --sklearn-color-unfitted-level-2: #ffe0b3;\n",
       "  --sklearn-color-unfitted-level-3: chocolate;\n",
       "  /* Definition of color scheme for fitted estimators */\n",
       "  --sklearn-color-fitted-level-0: #f0f8ff;\n",
       "  --sklearn-color-fitted-level-1: #d4ebff;\n",
       "  --sklearn-color-fitted-level-2: #b3dbfd;\n",
       "  --sklearn-color-fitted-level-3: cornflowerblue;\n",
       "\n",
       "  /* Specific color for light theme */\n",
       "  --sklearn-color-text-on-default-background: var(--sg-text-color, var(--theme-code-foreground, var(--jp-content-font-color1, black)));\n",
       "  --sklearn-color-background: var(--sg-background-color, var(--theme-background, var(--jp-layout-color0, white)));\n",
       "  --sklearn-color-border-box: var(--sg-text-color, var(--theme-code-foreground, var(--jp-content-font-color1, black)));\n",
       "  --sklearn-color-icon: #696969;\n",
       "\n",
       "  @media (prefers-color-scheme: dark) {\n",
       "    /* Redefinition of color scheme for dark theme */\n",
       "    --sklearn-color-text-on-default-background: var(--sg-text-color, var(--theme-code-foreground, var(--jp-content-font-color1, white)));\n",
       "    --sklearn-color-background: var(--sg-background-color, var(--theme-background, var(--jp-layout-color0, #111)));\n",
       "    --sklearn-color-border-box: var(--sg-text-color, var(--theme-code-foreground, var(--jp-content-font-color1, white)));\n",
       "    --sklearn-color-icon: #878787;\n",
       "  }\n",
       "}\n",
       "\n",
       "#sk-container-id-1 {\n",
       "  color: var(--sklearn-color-text);\n",
       "}\n",
       "\n",
       "#sk-container-id-1 pre {\n",
       "  padding: 0;\n",
       "}\n",
       "\n",
       "#sk-container-id-1 input.sk-hidden--visually {\n",
       "  border: 0;\n",
       "  clip: rect(1px 1px 1px 1px);\n",
       "  clip: rect(1px, 1px, 1px, 1px);\n",
       "  height: 1px;\n",
       "  margin: -1px;\n",
       "  overflow: hidden;\n",
       "  padding: 0;\n",
       "  position: absolute;\n",
       "  width: 1px;\n",
       "}\n",
       "\n",
       "#sk-container-id-1 div.sk-dashed-wrapped {\n",
       "  border: 1px dashed var(--sklearn-color-line);\n",
       "  margin: 0 0.4em 0.5em 0.4em;\n",
       "  box-sizing: border-box;\n",
       "  padding-bottom: 0.4em;\n",
       "  background-color: var(--sklearn-color-background);\n",
       "}\n",
       "\n",
       "#sk-container-id-1 div.sk-container {\n",
       "  /* jupyter's `normalize.less` sets `[hidden] { display: none; }`\n",
       "     but bootstrap.min.css set `[hidden] { display: none !important; }`\n",
       "     so we also need the `!important` here to be able to override the\n",
       "     default hidden behavior on the sphinx rendered scikit-learn.org.\n",
       "     See: https://github.com/scikit-learn/scikit-learn/issues/21755 */\n",
       "  display: inline-block !important;\n",
       "  position: relative;\n",
       "}\n",
       "\n",
       "#sk-container-id-1 div.sk-text-repr-fallback {\n",
       "  display: none;\n",
       "}\n",
       "\n",
       "div.sk-parallel-item,\n",
       "div.sk-serial,\n",
       "div.sk-item {\n",
       "  /* draw centered vertical line to link estimators */\n",
       "  background-image: linear-gradient(var(--sklearn-color-text-on-default-background), var(--sklearn-color-text-on-default-background));\n",
       "  background-size: 2px 100%;\n",
       "  background-repeat: no-repeat;\n",
       "  background-position: center center;\n",
       "}\n",
       "\n",
       "/* Parallel-specific style estimator block */\n",
       "\n",
       "#sk-container-id-1 div.sk-parallel-item::after {\n",
       "  content: \"\";\n",
       "  width: 100%;\n",
       "  border-bottom: 2px solid var(--sklearn-color-text-on-default-background);\n",
       "  flex-grow: 1;\n",
       "}\n",
       "\n",
       "#sk-container-id-1 div.sk-parallel {\n",
       "  display: flex;\n",
       "  align-items: stretch;\n",
       "  justify-content: center;\n",
       "  background-color: var(--sklearn-color-background);\n",
       "  position: relative;\n",
       "}\n",
       "\n",
       "#sk-container-id-1 div.sk-parallel-item {\n",
       "  display: flex;\n",
       "  flex-direction: column;\n",
       "}\n",
       "\n",
       "#sk-container-id-1 div.sk-parallel-item:first-child::after {\n",
       "  align-self: flex-end;\n",
       "  width: 50%;\n",
       "}\n",
       "\n",
       "#sk-container-id-1 div.sk-parallel-item:last-child::after {\n",
       "  align-self: flex-start;\n",
       "  width: 50%;\n",
       "}\n",
       "\n",
       "#sk-container-id-1 div.sk-parallel-item:only-child::after {\n",
       "  width: 0;\n",
       "}\n",
       "\n",
       "/* Serial-specific style estimator block */\n",
       "\n",
       "#sk-container-id-1 div.sk-serial {\n",
       "  display: flex;\n",
       "  flex-direction: column;\n",
       "  align-items: center;\n",
       "  background-color: var(--sklearn-color-background);\n",
       "  padding-right: 1em;\n",
       "  padding-left: 1em;\n",
       "}\n",
       "\n",
       "\n",
       "/* Toggleable style: style used for estimator/Pipeline/ColumnTransformer box that is\n",
       "clickable and can be expanded/collapsed.\n",
       "- Pipeline and ColumnTransformer use this feature and define the default style\n",
       "- Estimators will overwrite some part of the style using the `sk-estimator` class\n",
       "*/\n",
       "\n",
       "/* Pipeline and ColumnTransformer style (default) */\n",
       "\n",
       "#sk-container-id-1 div.sk-toggleable {\n",
       "  /* Default theme specific background. It is overwritten whether we have a\n",
       "  specific estimator or a Pipeline/ColumnTransformer */\n",
       "  background-color: var(--sklearn-color-background);\n",
       "}\n",
       "\n",
       "/* Toggleable label */\n",
       "#sk-container-id-1 label.sk-toggleable__label {\n",
       "  cursor: pointer;\n",
       "  display: block;\n",
       "  width: 100%;\n",
       "  margin-bottom: 0;\n",
       "  padding: 0.5em;\n",
       "  box-sizing: border-box;\n",
       "  text-align: center;\n",
       "}\n",
       "\n",
       "#sk-container-id-1 label.sk-toggleable__label-arrow:before {\n",
       "  /* Arrow on the left of the label */\n",
       "  content: \"▸\";\n",
       "  float: left;\n",
       "  margin-right: 0.25em;\n",
       "  color: var(--sklearn-color-icon);\n",
       "}\n",
       "\n",
       "#sk-container-id-1 label.sk-toggleable__label-arrow:hover:before {\n",
       "  color: var(--sklearn-color-text);\n",
       "}\n",
       "\n",
       "/* Toggleable content - dropdown */\n",
       "\n",
       "#sk-container-id-1 div.sk-toggleable__content {\n",
       "  max-height: 0;\n",
       "  max-width: 0;\n",
       "  overflow: hidden;\n",
       "  text-align: left;\n",
       "  /* unfitted */\n",
       "  background-color: var(--sklearn-color-unfitted-level-0);\n",
       "}\n",
       "\n",
       "#sk-container-id-1 div.sk-toggleable__content.fitted {\n",
       "  /* fitted */\n",
       "  background-color: var(--sklearn-color-fitted-level-0);\n",
       "}\n",
       "\n",
       "#sk-container-id-1 div.sk-toggleable__content pre {\n",
       "  margin: 0.2em;\n",
       "  border-radius: 0.25em;\n",
       "  color: var(--sklearn-color-text);\n",
       "  /* unfitted */\n",
       "  background-color: var(--sklearn-color-unfitted-level-0);\n",
       "}\n",
       "\n",
       "#sk-container-id-1 div.sk-toggleable__content.fitted pre {\n",
       "  /* unfitted */\n",
       "  background-color: var(--sklearn-color-fitted-level-0);\n",
       "}\n",
       "\n",
       "#sk-container-id-1 input.sk-toggleable__control:checked~div.sk-toggleable__content {\n",
       "  /* Expand drop-down */\n",
       "  max-height: 200px;\n",
       "  max-width: 100%;\n",
       "  overflow: auto;\n",
       "}\n",
       "\n",
       "#sk-container-id-1 input.sk-toggleable__control:checked~label.sk-toggleable__label-arrow:before {\n",
       "  content: \"▾\";\n",
       "}\n",
       "\n",
       "/* Pipeline/ColumnTransformer-specific style */\n",
       "\n",
       "#sk-container-id-1 div.sk-label input.sk-toggleable__control:checked~label.sk-toggleable__label {\n",
       "  color: var(--sklearn-color-text);\n",
       "  background-color: var(--sklearn-color-unfitted-level-2);\n",
       "}\n",
       "\n",
       "#sk-container-id-1 div.sk-label.fitted input.sk-toggleable__control:checked~label.sk-toggleable__label {\n",
       "  background-color: var(--sklearn-color-fitted-level-2);\n",
       "}\n",
       "\n",
       "/* Estimator-specific style */\n",
       "\n",
       "/* Colorize estimator box */\n",
       "#sk-container-id-1 div.sk-estimator input.sk-toggleable__control:checked~label.sk-toggleable__label {\n",
       "  /* unfitted */\n",
       "  background-color: var(--sklearn-color-unfitted-level-2);\n",
       "}\n",
       "\n",
       "#sk-container-id-1 div.sk-estimator.fitted input.sk-toggleable__control:checked~label.sk-toggleable__label {\n",
       "  /* fitted */\n",
       "  background-color: var(--sklearn-color-fitted-level-2);\n",
       "}\n",
       "\n",
       "#sk-container-id-1 div.sk-label label.sk-toggleable__label,\n",
       "#sk-container-id-1 div.sk-label label {\n",
       "  /* The background is the default theme color */\n",
       "  color: var(--sklearn-color-text-on-default-background);\n",
       "}\n",
       "\n",
       "/* On hover, darken the color of the background */\n",
       "#sk-container-id-1 div.sk-label:hover label.sk-toggleable__label {\n",
       "  color: var(--sklearn-color-text);\n",
       "  background-color: var(--sklearn-color-unfitted-level-2);\n",
       "}\n",
       "\n",
       "/* Label box, darken color on hover, fitted */\n",
       "#sk-container-id-1 div.sk-label.fitted:hover label.sk-toggleable__label.fitted {\n",
       "  color: var(--sklearn-color-text);\n",
       "  background-color: var(--sklearn-color-fitted-level-2);\n",
       "}\n",
       "\n",
       "/* Estimator label */\n",
       "\n",
       "#sk-container-id-1 div.sk-label label {\n",
       "  font-family: monospace;\n",
       "  font-weight: bold;\n",
       "  display: inline-block;\n",
       "  line-height: 1.2em;\n",
       "}\n",
       "\n",
       "#sk-container-id-1 div.sk-label-container {\n",
       "  text-align: center;\n",
       "}\n",
       "\n",
       "/* Estimator-specific */\n",
       "#sk-container-id-1 div.sk-estimator {\n",
       "  font-family: monospace;\n",
       "  border: 1px dotted var(--sklearn-color-border-box);\n",
       "  border-radius: 0.25em;\n",
       "  box-sizing: border-box;\n",
       "  margin-bottom: 0.5em;\n",
       "  /* unfitted */\n",
       "  background-color: var(--sklearn-color-unfitted-level-0);\n",
       "}\n",
       "\n",
       "#sk-container-id-1 div.sk-estimator.fitted {\n",
       "  /* fitted */\n",
       "  background-color: var(--sklearn-color-fitted-level-0);\n",
       "}\n",
       "\n",
       "/* on hover */\n",
       "#sk-container-id-1 div.sk-estimator:hover {\n",
       "  /* unfitted */\n",
       "  background-color: var(--sklearn-color-unfitted-level-2);\n",
       "}\n",
       "\n",
       "#sk-container-id-1 div.sk-estimator.fitted:hover {\n",
       "  /* fitted */\n",
       "  background-color: var(--sklearn-color-fitted-level-2);\n",
       "}\n",
       "\n",
       "/* Specification for estimator info (e.g. \"i\" and \"?\") */\n",
       "\n",
       "/* Common style for \"i\" and \"?\" */\n",
       "\n",
       ".sk-estimator-doc-link,\n",
       "a:link.sk-estimator-doc-link,\n",
       "a:visited.sk-estimator-doc-link {\n",
       "  float: right;\n",
       "  font-size: smaller;\n",
       "  line-height: 1em;\n",
       "  font-family: monospace;\n",
       "  background-color: var(--sklearn-color-background);\n",
       "  border-radius: 1em;\n",
       "  height: 1em;\n",
       "  width: 1em;\n",
       "  text-decoration: none !important;\n",
       "  margin-left: 1ex;\n",
       "  /* unfitted */\n",
       "  border: var(--sklearn-color-unfitted-level-1) 1pt solid;\n",
       "  color: var(--sklearn-color-unfitted-level-1);\n",
       "}\n",
       "\n",
       ".sk-estimator-doc-link.fitted,\n",
       "a:link.sk-estimator-doc-link.fitted,\n",
       "a:visited.sk-estimator-doc-link.fitted {\n",
       "  /* fitted */\n",
       "  border: var(--sklearn-color-fitted-level-1) 1pt solid;\n",
       "  color: var(--sklearn-color-fitted-level-1);\n",
       "}\n",
       "\n",
       "/* On hover */\n",
       "div.sk-estimator:hover .sk-estimator-doc-link:hover,\n",
       ".sk-estimator-doc-link:hover,\n",
       "div.sk-label-container:hover .sk-estimator-doc-link:hover,\n",
       ".sk-estimator-doc-link:hover {\n",
       "  /* unfitted */\n",
       "  background-color: var(--sklearn-color-unfitted-level-3);\n",
       "  color: var(--sklearn-color-background);\n",
       "  text-decoration: none;\n",
       "}\n",
       "\n",
       "div.sk-estimator.fitted:hover .sk-estimator-doc-link.fitted:hover,\n",
       ".sk-estimator-doc-link.fitted:hover,\n",
       "div.sk-label-container:hover .sk-estimator-doc-link.fitted:hover,\n",
       ".sk-estimator-doc-link.fitted:hover {\n",
       "  /* fitted */\n",
       "  background-color: var(--sklearn-color-fitted-level-3);\n",
       "  color: var(--sklearn-color-background);\n",
       "  text-decoration: none;\n",
       "}\n",
       "\n",
       "/* Span, style for the box shown on hovering the info icon */\n",
       ".sk-estimator-doc-link span {\n",
       "  display: none;\n",
       "  z-index: 9999;\n",
       "  position: relative;\n",
       "  font-weight: normal;\n",
       "  right: .2ex;\n",
       "  padding: .5ex;\n",
       "  margin: .5ex;\n",
       "  width: min-content;\n",
       "  min-width: 20ex;\n",
       "  max-width: 50ex;\n",
       "  color: var(--sklearn-color-text);\n",
       "  box-shadow: 2pt 2pt 4pt #999;\n",
       "  /* unfitted */\n",
       "  background: var(--sklearn-color-unfitted-level-0);\n",
       "  border: .5pt solid var(--sklearn-color-unfitted-level-3);\n",
       "}\n",
       "\n",
       ".sk-estimator-doc-link.fitted span {\n",
       "  /* fitted */\n",
       "  background: var(--sklearn-color-fitted-level-0);\n",
       "  border: var(--sklearn-color-fitted-level-3);\n",
       "}\n",
       "\n",
       ".sk-estimator-doc-link:hover span {\n",
       "  display: block;\n",
       "}\n",
       "\n",
       "/* \"?\"-specific style due to the `<a>` HTML tag */\n",
       "\n",
       "#sk-container-id-1 a.estimator_doc_link {\n",
       "  float: right;\n",
       "  font-size: 1rem;\n",
       "  line-height: 1em;\n",
       "  font-family: monospace;\n",
       "  background-color: var(--sklearn-color-background);\n",
       "  border-radius: 1rem;\n",
       "  height: 1rem;\n",
       "  width: 1rem;\n",
       "  text-decoration: none;\n",
       "  /* unfitted */\n",
       "  color: var(--sklearn-color-unfitted-level-1);\n",
       "  border: var(--sklearn-color-unfitted-level-1) 1pt solid;\n",
       "}\n",
       "\n",
       "#sk-container-id-1 a.estimator_doc_link.fitted {\n",
       "  /* fitted */\n",
       "  border: var(--sklearn-color-fitted-level-1) 1pt solid;\n",
       "  color: var(--sklearn-color-fitted-level-1);\n",
       "}\n",
       "\n",
       "/* On hover */\n",
       "#sk-container-id-1 a.estimator_doc_link:hover {\n",
       "  /* unfitted */\n",
       "  background-color: var(--sklearn-color-unfitted-level-3);\n",
       "  color: var(--sklearn-color-background);\n",
       "  text-decoration: none;\n",
       "}\n",
       "\n",
       "#sk-container-id-1 a.estimator_doc_link.fitted:hover {\n",
       "  /* fitted */\n",
       "  background-color: var(--sklearn-color-fitted-level-3);\n",
       "}\n",
       "</style><div id=\"sk-container-id-1\" class=\"sk-top-container\"><div class=\"sk-text-repr-fallback\"><pre>LogisticRegression(max_iter=1000, multi_class=&#x27;multinomial&#x27;, random_state=22)</pre><b>In a Jupyter environment, please rerun this cell to show the HTML representation or trust the notebook. <br />On GitHub, the HTML representation is unable to render, please try loading this page with nbviewer.org.</b></div><div class=\"sk-container\" hidden><div class=\"sk-item\"><div class=\"sk-estimator fitted sk-toggleable\"><input class=\"sk-toggleable__control sk-hidden--visually\" id=\"sk-estimator-id-1\" type=\"checkbox\" checked><label for=\"sk-estimator-id-1\" class=\"sk-toggleable__label fitted sk-toggleable__label-arrow fitted\">&nbsp;&nbsp;LogisticRegression<a class=\"sk-estimator-doc-link fitted\" rel=\"noreferrer\" target=\"_blank\" href=\"https://scikit-learn.org/1.4/modules/generated/sklearn.linear_model.LogisticRegression.html\">?<span>Documentation for LogisticRegression</span></a><span class=\"sk-estimator-doc-link fitted\">i<span>Fitted</span></span></label><div class=\"sk-toggleable__content fitted\"><pre>LogisticRegression(max_iter=1000, multi_class=&#x27;multinomial&#x27;, random_state=22)</pre></div> </div></div></div></div>"
      ],
      "text/plain": [
       "LogisticRegression(max_iter=1000, multi_class='multinomial', random_state=22)"
      ]
     },
     "execution_count": 69,
     "metadata": {},
     "output_type": "execute_result"
    }
   ],
   "source": [
    "log_reg.fit(X_train, y_train)"
   ]
  },
  {
   "cell_type": "code",
   "execution_count": 70,
   "id": "dc791260",
   "metadata": {},
   "outputs": [],
   "source": [
    "y_pred = log_reg.predict(X_test)"
   ]
  },
  {
   "cell_type": "code",
   "execution_count": 73,
   "id": "fb69b1cc",
   "metadata": {},
   "outputs": [
    {
     "name": "stdout",
     "output_type": "stream",
     "text": [
      "Результат модели по метрике accuracy: 98.05%\n",
      "Результат модели по метрике precision: 98.02%\n",
      "Результат модели по метрике recall: 98.05%\n",
      "Результат модели по метрике f1-score: 97.98%\n"
     ]
    }
   ],
   "source": [
    "print(f'Результат модели по метрике accuracy: {round(accuracy_score(y_test, y_pred)*100, 2)}%')\n",
    "print(f'Результат модели по метрике precision: {round(precision_score(y_test, y_pred, average=\"weighted\")*100, 2)}%')\n",
    "print(f'Результат модели по метрике recall: {round(recall_score(y_test, y_pred, average=\"weighted\")*100, 2)}%')\n",
    "print(f'Результат модели по метрике f1-score: {round(f1_score(y_test, y_pred, average=\"weighted\")*100, 2)}%')"
   ]
  },
  {
   "cell_type": "markdown",
   "id": "d48e72ad-4301-4c54-a90a-6e97550fb412",
   "metadata": {},
   "source": [
    "### Случайный лес"
   ]
  },
  {
   "cell_type": "code",
   "execution_count": 76,
   "id": "84d635a1",
   "metadata": {},
   "outputs": [],
   "source": [
    "rf = RandomForestClassifier(random_state = 22)\n",
    "\n",
    "rf.fit(X_train, y_train)\n",
    "\n",
    "rf_y_pred = rf.predict(X_test)"
   ]
  },
  {
   "cell_type": "code",
   "execution_count": 78,
   "id": "45f1a15c",
   "metadata": {},
   "outputs": [
    {
     "name": "stdout",
     "output_type": "stream",
     "text": [
      "Результат модели по метрике accuracy: 98.37%\n",
      "Результат модели по метрике precision: 98.35%\n",
      "Результат модели по метрике recall: 98.37%\n",
      "Результат модели по метрике f1-score: 98.33%\n"
     ]
    }
   ],
   "source": [
    "print(f'Результат модели по метрике accuracy: {round(accuracy_score(y_test, rf_y_pred)*100, 2)}%')\n",
    "print(f'Результат модели по метрике precision: {round(precision_score(y_test, rf_y_pred, average=\"weighted\")*100, 2)}%')\n",
    "print(f'Результат модели по метрике recall: {round(recall_score(y_test, rf_y_pred, average=\"weighted\")*100, 2)}%')\n",
    "print(f'Результат модели по метрике f1-score: {round(f1_score(y_test, rf_y_pred, average=\"weighted\")*100, 2)}%')"
   ]
  },
  {
   "cell_type": "markdown",
   "id": "9a1fdec3-3fb8-49c8-8672-539c261554f1",
   "metadata": {},
   "source": [
    "### Градиентный бустинг"
   ]
  },
  {
   "cell_type": "code",
   "execution_count": 81,
   "id": "ed2f824c",
   "metadata": {},
   "outputs": [],
   "source": [
    "ctb = CatBoostClassifier(random_seed=22,iterations=150,loss_function='MultiClass')\n",
    "\n",
    "ctb.fit(X_train, y_train, verbose=False)\n",
    "\n",
    "ctb_y_pred = ctb.predict(X_test)"
   ]
  },
  {
   "cell_type": "code",
   "execution_count": 82,
   "id": "82f70443-050a-4c63-ad6d-e297e1b7a53d",
   "metadata": {},
   "outputs": [
    {
     "name": "stdout",
     "output_type": "stream",
     "text": [
      "Результат модели по метрике accuracy: 99.02%\n",
      "Результат модели по метрике precision: 99.04%\n",
      "Результат модели по метрике recall: 99.02%\n",
      "Результат модели по метрике f1-score: 99.0%\n"
     ]
    }
   ],
   "source": [
    "print(f'Результат модели по метрике accuracy: {round(accuracy_score(y_test, ctb_y_pred)*100, 2)}%')\n",
    "print(f'Результат модели по метрике precision: {round(precision_score(y_test, ctb_y_pred, average=\"weighted\")*100, 2)}%')\n",
    "print(f'Результат модели по метрике recall: {round(recall_score(y_test, ctb_y_pred, average=\"weighted\")*100, 2)}%')\n",
    "print(f'Результат модели по метрике f1-score: {round(f1_score(y_test, ctb_y_pred, average=\"weighted\")*100, 2)}%')"
   ]
  },
  {
   "cell_type": "markdown",
   "id": "5b31311e-3e9d-4848-9169-13d93df28604",
   "metadata": {},
   "source": [
    "### Матрица ошибок"
   ]
  },
  {
   "cell_type": "code",
   "execution_count": 86,
   "id": "efd15b22",
   "metadata": {},
   "outputs": [
    {
     "data": {
      "text/plain": [
       "<Axes: >"
      ]
     },
     "execution_count": 86,
     "metadata": {},
     "output_type": "execute_result"
    },
    {
     "data": {
      "image/png": "[encoded data removed]",
      "text/plain": [
       "<Figure size 640x480 with 2 Axes>"
      ]
     },
     "metadata": {},
     "output_type": "display_data"
    }
   ],
   "source": [
    "cat_pred = ctb.predict(X)\n",
    "conf_mat = confusion_matrix(y, cat_pred)\n",
    "sns.heatmap(conf_mat, annot=True, fmt='3.0f', cmap=\"summer\")"
   ]
  },
  {
   "cell_type": "markdown",
   "id": "f88f4339-4dad-4190-b3dc-efacb799a4d4",
   "metadata": {},
   "source": [
    "## 3. Итоги"
   ]
  },
  {
   "cell_type": "markdown",
   "id": "9e7f093f-f4fe-4cb7-b5e5-601773a76017",
   "metadata": {},
   "source": [
    "### По итогам проделанной работы можно сделать следующие итоги\n",
    "1. Лучше всего справился градиентный бустинг. Точность модели составила около 99%.\n",
    "2. Скорей всего точность получилась такой высокой из-за недостаточно качественной разметки данных (разметкой занимался не я). В дальнейшем можно будет потратить больше времени и ресурсов на разметку для улучшения модели."
   ]
  },
  {
   "cell_type": "markdown",
   "id": "16c3ba75-92db-4268-8846-4338f8b33c6b",
   "metadata": {},
   "source": [
    "### Сохраним модель для дальнейшего использования"
   ]
  },
  {
   "cell_type": "code",
   "execution_count": 91,
   "id": "81f709a3",
   "metadata": {},
   "outputs": [
    {
     "data": {
      "text/plain": [
       "['model2.pkl']"
      ]
     },
     "execution_count": 91,
     "metadata": {},
     "output_type": "execute_result"
    }
   ],
   "source": [
    "joblib.dump(ctb, \"model2.pkl\")"
   ]
  }
 ],
 "metadata": {
  "kernelspec": {
   "display_name": "Python 3 (ipykernel)",
   "language": "python",
   "name": "python3"
  },
  "language_info": {
   "codemirror_mode": {
    "name": "ipython",
    "version": 3
   },
   "file_extension": ".py",
   "mimetype": "text/x-python",
   "name": "python",
   "nbconvert_exporter": "python",
   "pygments_lexer": "ipython3",
   "version": "3.12.4"
  }
 },
 "nbformat": 4,
 "nbformat_minor": 5
}
